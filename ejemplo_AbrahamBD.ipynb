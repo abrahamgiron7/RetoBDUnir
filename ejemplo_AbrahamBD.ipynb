{
  "nbformat": 4,
  "nbformat_minor": 0,
  "metadata": {
    "colab": {
      "provenance": [],
      "include_colab_link": true
    },
    "kernelspec": {
      "name": "python3",
      "display_name": "Python 3"
    },
    "language_info": {
      "name": "python"
    }
  },
  "cells": [
    {
      "cell_type": "markdown",
      "metadata": {
        "id": "view-in-github",
        "colab_type": "text"
      },
      "source": [
        "<a href=\"https://colab.research.google.com/github/abrahamgiron7/RetoBDUnir/blob/main/ejemplo_AbrahamBD.ipynb\" target=\"_parent\"><img src=\"https://colab.research.google.com/assets/colab-badge.svg\" alt=\"Open In Colab\"/></a>"
      ]
    },
    {
      "cell_type": "markdown",
      "source": [
        "Muestra de glosario, terapia ocupacional"
      ],
      "metadata": {
        "id": "4iTJInF0Qcz8"
      }
    },
    {
      "cell_type": "code",
      "execution_count": 1,
      "metadata": {
        "colab": {
          "base_uri": "https://localhost:8080/",
          "height": 245
        },
        "id": "VXZvDn9fOlDU",
        "outputId": "c6ea18ed-6e1e-4bff-9068-8bfb9ab9eb3b"
      },
      "outputs": [
        {
          "output_type": "error",
          "ename": "FileNotFoundError",
          "evalue": "ignored",
          "traceback": [
            "\u001b[0;31m---------------------------------------------------------------------------\u001b[0m",
            "\u001b[0;31mFileNotFoundError\u001b[0m                         Traceback (most recent call last)",
            "\u001b[0;32m<ipython-input-1-1c92ccc22059>\u001b[0m in \u001b[0;36m<cell line: 5>\u001b[0;34m()\u001b[0m\n\u001b[1;32m      3\u001b[0m \u001b[0;31m# Los ficheros deben estar cargados en la sesión de Colab para que funcione esto\u001b[0m\u001b[0;34m\u001b[0m\u001b[0;34m\u001b[0m\u001b[0m\n\u001b[1;32m      4\u001b[0m \u001b[0;34m\u001b[0m\u001b[0m\n\u001b[0;32m----> 5\u001b[0;31m \u001b[0mraw_data\u001b[0m \u001b[0;34m=\u001b[0m \u001b[0mjson\u001b[0m\u001b[0;34m.\u001b[0m\u001b[0mloads\u001b[0m\u001b[0;34m(\u001b[0m\u001b[0mopen\u001b[0m\u001b[0;34m(\u001b[0m\u001b[0;34m\"raw_occupational_therapy_eng.json\"\u001b[0m\u001b[0;34m)\u001b[0m\u001b[0;34m.\u001b[0m\u001b[0mread\u001b[0m\u001b[0;34m(\u001b[0m\u001b[0;34m)\u001b[0m\u001b[0;34m)\u001b[0m\u001b[0;34m\u001b[0m\u001b[0;34m\u001b[0m\u001b[0m\n\u001b[0m\u001b[1;32m      6\u001b[0m \u001b[0mgold_data\u001b[0m \u001b[0;34m=\u001b[0m \u001b[0mjson\u001b[0m\u001b[0;34m.\u001b[0m\u001b[0mloads\u001b[0m\u001b[0;34m(\u001b[0m\u001b[0mopen\u001b[0m\u001b[0;34m(\u001b[0m\u001b[0;34m\"gold_occupational_therapy_eng.json\"\u001b[0m\u001b[0;34m)\u001b[0m\u001b[0;34m.\u001b[0m\u001b[0mread\u001b[0m\u001b[0;34m(\u001b[0m\u001b[0;34m)\u001b[0m\u001b[0;34m)\u001b[0m\u001b[0;34m\u001b[0m\u001b[0;34m\u001b[0m\u001b[0m\n\u001b[1;32m      7\u001b[0m \u001b[0;34m\u001b[0m\u001b[0m\n",
            "\u001b[0;31mFileNotFoundError\u001b[0m: [Errno 2] No such file or directory: 'raw_occupational_therapy_eng.json'"
          ]
        }
      ],
      "source": [
        "import json\n",
        "\n",
        "# Los ficheros deben estar cargados en la sesión de Colab para que funcione esto\n",
        "\n",
        "raw_data = json.loads(open(\"raw_occupational_therapy_eng.json\").read())\n",
        "gold_data = json.loads(open(\"gold_occupational_therapy_eng.json\").read())\n",
        "\n",
        "#print(raw_extracted)\n",
        "#print(gold_data)\n",
        "\n",
        "raw_terms = [term['forms']['eng'][0]['text'] for term in raw_data]\n",
        "gold_terms = [term['forms']['eng'][0]['text'] for term in gold_data]\n",
        "\n",
        "print(\"Términos extraídos:\", len(raw_terms))\n",
        "#print(raw_terms)\n",
        "\n",
        "print(\"Términos válidos:\", len(gold_terms))\n",
        "#print(gold_terms)\n",
        "\n",
        "#set.intersection(set(raw_terms), set(gold_terms))"
      ]
    },
    {
      "cell_type": "code",
      "source": [],
      "metadata": {
        "id": "lhBTpiQLQZpX"
      },
      "execution_count": null,
      "outputs": []
    }
  ]
}
