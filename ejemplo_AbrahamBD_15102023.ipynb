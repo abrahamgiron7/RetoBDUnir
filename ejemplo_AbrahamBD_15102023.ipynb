{
 "cells": [
  {
   "cell_type": "markdown",
   "metadata": {
    "id": "4iTJInF0Qcz8"
   },
   "source": [
    "Muestra de glosario, terapia ocupacional"
   ]
  },
  {
   "cell_type": "code",
   "execution_count": 17,
   "metadata": {
    "ExecuteTime": {
     "end_time": "2023-10-15T18:52:01.166988Z",
     "start_time": "2023-10-15T18:52:01.149605Z"
    },
    "colab": {
     "base_uri": "https://localhost:8080/"
    },
    "id": "VXZvDn9fOlDU",
    "outputId": "11f2932a-db88-4d0a-e7c3-f7599dcbfe2e"
   },
   "outputs": [
    {
     "name": "stdout",
     "output_type": "stream",
     "text": [
      "Términos extraídos: 277\n",
      "Términos válidos: 749\n"
     ]
    }
   ],
   "source": [
    "import json\n",
    "\n",
    "# Los ficheros deben estar cargados en la sesión de Colab para que funcione esto\n",
    "\n",
    "#Raw: Glosario extraído en bruto\n",
    "raw_data = json.loads(open(\"raw_occupational_therapy_eng.json\").read())\n",
    "#Gold: Glosario de referencia revisado\n",
    "gold_data = json.loads(open(\"gold_occupational_therapy_eng.json\").read())\n",
    "\n",
    "#print(raw_data)\n",
    "#print(gold_data)\n",
    "\n",
    "raw_terms = [term['forms']['eng'][0]['text'] for term in raw_data]\n",
    "gold_terms = [term['forms']['eng'][0]['text'] for term in gold_data]\n",
    "\n",
    "print(\"Términos extraídos:\", len(raw_terms))\n",
    "#print(raw_terms)\n",
    "\n",
    "print(\"Términos válidos:\", len(gold_terms))\n",
    "#print(gold_terms)\n",
    "\n",
    "#set.intersection(set(raw_terms), set(gold_terms))"
   ]
  },
  {
   "cell_type": "code",
   "execution_count": 18,
   "metadata": {
    "ExecuteTime": {
     "end_time": "2023-10-15T18:52:19.033187Z",
     "start_time": "2023-10-15T18:52:19.026215Z"
    }
   },
   "outputs": [],
   "source": [
    "import numpy as np\n",
    "array_gold = np.array(gold_terms)\n",
    "array_raw = np.array(raw_terms)\n",
    "#array_gold.shape\n",
    "#array_raw.shape\n",
    "\n",
    "#Términos extraídos: 277\n",
    "#Términos válidos: 749"
   ]
  },
  {
   "cell_type": "code",
   "execution_count": 31,
   "metadata": {
    "ExecuteTime": {
     "end_time": "2023-10-15T19:01:47.543975Z",
     "start_time": "2023-10-15T19:01:47.467969Z"
    }
   },
   "outputs": [
    {
     "name": "stdout",
     "output_type": "stream",
     "text": [
      "Matriz de Confusión:\n",
      "134\n",
      "143\n",
      "Ratio de acierto:\n",
      "48.375451263537904\n",
      "Términos no extraídos:\n",
      "615\n"
     ]
    }
   ],
   "source": [
    "# Inicializa los contadores de TP, FP, TN y FN en 0\n",
    "TP = 0\n",
    "TN = 0\n",
    "\n",
    "\n",
    "# Comparar los valores en los dos arrays\n",
    "for extraido in array_raw:\n",
    "    for valido in array_gold:\n",
    "        if extraido == valido:\n",
    "            TP += 1\n",
    "\n",
    "TN = len(array_raw) - TP\n",
    "\n",
    "# Crear la matriz de confusión\n",
    "matriz_confusion = [TP, TN]\n",
    "\n",
    "print(\"Matriz de Confusión:\")\n",
    "for fila in matriz_confusion:\n",
    "    print(fila)\n",
    "    \n",
    "RATIO = TP/len(array_raw)*100\n",
    "print(\"Ratio de acierto:\")\n",
    "print(RATIO)\n",
    "\n",
    "NO_EXT = len(array_gold)-TP\n",
    "print(\"Términos no extraídos:\")\n",
    "print(NO_EXT)"
   ]
  },
  {
   "cell_type": "code",
   "execution_count": null,
   "metadata": {},
   "outputs": [],
   "source": []
  }
 ],
 "metadata": {
  "colab": {
   "provenance": []
  },
  "kernelspec": {
   "display_name": "Python 3 (ipykernel)",
   "language": "python",
   "name": "python3"
  },
  "language_info": {
   "codemirror_mode": {
    "name": "ipython",
    "version": 3
   },
   "file_extension": ".py",
   "mimetype": "text/x-python",
   "name": "python",
   "nbconvert_exporter": "python",
   "pygments_lexer": "ipython3",
   "version": "3.9.0"
  },
  "toc": {
   "base_numbering": 1,
   "nav_menu": {},
   "number_sections": true,
   "sideBar": true,
   "skip_h1_title": false,
   "title_cell": "Table of Contents",
   "title_sidebar": "Contents",
   "toc_cell": false,
   "toc_position": {},
   "toc_section_display": true,
   "toc_window_display": false
  }
 },
 "nbformat": 4,
 "nbformat_minor": 1
}
