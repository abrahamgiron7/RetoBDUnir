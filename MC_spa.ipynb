{
 "cells": [
  {
   "cell_type": "markdown",
   "metadata": {
    "id": "4iTJInF0Qcz8"
   },
   "source": [
    "Tarea 1 - Matriz confusión - Idioma: spanish"
   ]
  },
  {
   "cell_type": "code",
   "execution_count": 5,
   "metadata": {
    "ExecuteTime": {
     "end_time": "2023-10-16T12:06:17.876243Z",
     "start_time": "2023-10-16T12:06:17.863070Z"
    },
    "colab": {
     "base_uri": "https://localhost:8080/"
    },
    "id": "VXZvDn9fOlDU",
    "outputId": "11f2932a-db88-4d0a-e7c3-f7599dcbfe2e"
   },
   "outputs": [
    {
     "name": "stdout",
     "output_type": "stream",
     "text": [
      "Términos extraídos: 238\n",
      "Términos válidos: 117\n"
     ]
    }
   ],
   "source": [
    "import json\n",
    "\n",
    "# Los ficheros deben estar cargados en la sesión de Colab para que funcione esto\n",
    "\n",
    "#Raw: Glosario extraído en bruto\n",
    "raw_data = json.loads(open(\"raw_occupational_therapy_spa.json\").read())\n",
    "#Gold: Glosario de referencia revisado\n",
    "gold_data = json.loads(open(\"gold_occupational_therapy_spa.json\").read())\n",
    "\n",
    "#print(raw_data)\n",
    "#print(gold_data)\n",
    "\n",
    "raw_terms = [term['forms']['spa'][0]['text'] for term in raw_data]\n",
    "gold_terms = [term['forms']['spa'][0]['text'] for term in gold_data]\n",
    "\n",
    "print(\"Términos extraídos:\", len(raw_terms))\n",
    "#print(raw_terms)\n",
    "\n",
    "print(\"Términos válidos:\", len(gold_terms))\n",
    "#print(gold_terms)\n",
    "\n",
    "#set.intersection(set(raw_terms), set(gold_terms))"
   ]
  },
  {
   "cell_type": "code",
   "execution_count": 6,
   "metadata": {
    "ExecuteTime": {
     "end_time": "2023-10-16T12:06:18.358726Z",
     "start_time": "2023-10-16T12:06:18.350079Z"
    }
   },
   "outputs": [],
   "source": [
    "import numpy as np\n",
    "array_gold = np.array(gold_terms)\n",
    "array_raw = np.array(raw_terms)\n",
    "#array_gold.shape\n",
    "#array_raw.shape\n",
    "\n",
    "#Términos extraídos: 277\n",
    "#Términos válidos: 749"
   ]
  },
  {
   "cell_type": "markdown",
   "metadata": {
    "ExecuteTime": {
     "end_time": "2023-10-16T11:23:21.490733Z",
     "start_time": "2023-10-16T11:23:21.469551Z"
    }
   },
   "source": [
    "**Parámetros de matriz de confusión:**\n",
    "><figure><center>\n",
    "    <img src=\"2223_matriz.jpg\" alt=\"Matriz confusión\" width=600 height=600/>\n",
    "></figure></center> \n"
   ]
  },
  {
   "cell_type": "code",
   "execution_count": 7,
   "metadata": {
    "ExecuteTime": {
     "end_time": "2023-10-16T12:06:21.174797Z",
     "start_time": "2023-10-16T12:06:21.128525Z"
    }
   },
   "outputs": [
    {
     "name": "stdout",
     "output_type": "stream",
     "text": [
      "Matriz de Confusión:\n",
      "|TP|FP|\n",
      "|TN|FN|\n",
      "\n",
      "[78, 160]\n",
      "[0, 39]\n",
      "\n",
      "Precisión (%):\n",
      "32.773109243697476\n",
      "\n",
      "Sensibilidad (%):\n",
      "66.66666666666666\n"
     ]
    }
   ],
   "source": [
    "# Inicializa los contadores de TP, FP, TN y FN en 0\n",
    "TP = 0 #Están en ambos arrays\n",
    "TN = 0 #No se puede calcular?\n",
    "FP = 0 #Están en raw pero no en gold\n",
    "FN = 0 #No están en raw pero si en gold\n",
    "\n",
    "\n",
    "# Comparar los valores en los dos arrays\n",
    "for extraido in array_raw:\n",
    "    for valido in array_gold:\n",
    "        if extraido == valido:\n",
    "            TP += 1\n",
    "\n",
    "FP = len(array_raw) - TP\n",
    "\n",
    "FN = len(array_gold) - TP\n",
    "\n",
    "# Crear la matriz de confusión\n",
    "matriz_confusion = [[TP, FP], [TN, FN]]\n",
    "\n",
    "print(\"Matriz de Confusión:\")\n",
    "print(\"|TP|FP|\")\n",
    "print(\"|TN|FN|\\n\")\n",
    "\n",
    "for fila in matriz_confusion:\n",
    "    print(fila)\n",
    "\n",
    "#Precisión: Porcentaje de predicciones positivas correctas\n",
    "P=TP/(FP+TP)*100\n",
    "\n",
    "#Sensibilidad: Porcentaje de casos positivos detectados\n",
    "S=TP/(TP+FN)*100\n",
    "    \n",
    "print(\"\\nPrecisión (%):\")\n",
    "print(P)\n",
    "\n",
    "print(\"\\nSensibilidad (%):\")\n",
    "print(S)"
   ]
  },
  {
   "cell_type": "code",
   "execution_count": null,
   "metadata": {},
   "outputs": [],
   "source": []
  }
 ],
 "metadata": {
  "colab": {
   "provenance": []
  },
  "kernelspec": {
   "display_name": "Python 3 (ipykernel)",
   "language": "python",
   "name": "python3"
  },
  "language_info": {
   "codemirror_mode": {
    "name": "ipython",
    "version": 3
   },
   "file_extension": ".py",
   "mimetype": "text/x-python",
   "name": "python",
   "nbconvert_exporter": "python",
   "pygments_lexer": "ipython3",
   "version": "3.9.0"
  },
  "toc": {
   "base_numbering": 1,
   "nav_menu": {},
   "number_sections": true,
   "sideBar": true,
   "skip_h1_title": false,
   "title_cell": "Table of Contents",
   "title_sidebar": "Contents",
   "toc_cell": false,
   "toc_position": {},
   "toc_section_display": true,
   "toc_window_display": false
  }
 },
 "nbformat": 4,
 "nbformat_minor": 1
}
